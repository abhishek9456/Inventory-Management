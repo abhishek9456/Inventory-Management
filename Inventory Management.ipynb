{
 "cells": [
  {
   "cell_type": "code",
   "execution_count": 1,
   "id": "f118ac37",
   "metadata": {},
   "outputs": [],
   "source": [
    "fd=open(\"inventory.txt\",\"w\")\n",
    "fd.close()"
   ]
  },
  {
   "cell_type": "markdown",
   "id": "213178b4",
   "metadata": {},
   "source": [
    "## Product Details\n",
    "1. Product Id\n",
    "2. Mass of Product\n",
    "3. Price Of Product\n",
    "4. Quantity\n"
   ]
  },
  {
   "cell_type": "code",
   "execution_count": 66,
   "id": "018cf3bc",
   "metadata": {},
   "outputs": [
    {
     "name": "stdout",
     "output_type": "stream",
     "text": [
      "['1,5 Star,5,100', '2,Dairy Milk,10,100', '3,Cake,300,5', '4,Milkbar,20,35']\n"
     ]
    }
   ],
   "source": [
    "fd=open(\"inventory.txt\",\"r\")\n",
    "products=fd.read().split('\\n')\n",
    "print(products)\n",
    "fd.close()"
   ]
  },
  {
   "cell_type": "code",
   "execution_count": null,
   "id": "7db1c526",
   "metadata": {},
   "outputs": [],
   "source": []
  },
  {
   "cell_type": "code",
   "execution_count": 32,
   "id": "2ad5d06f",
   "metadata": {},
   "outputs": [
    {
     "name": "stdout",
     "output_type": "stream",
     "text": [
      "Enter Name: Abhi\n",
      "Enter Phone No.: 9457882702\n",
      "Enter mail id: abhishekpratapsingh2512gmail.com\n",
      "Enter product Id: 2\n",
      "Enter product Quantity: 2\n",
      "-------------------------\n",
      "Product Name     : 5 Star\n",
      "Price of Product : 5\n",
      "Quuantity        : 2\n",
      "-------------------------\n",
      "Billing Amount    : 10\n",
      "-------------------------\n"
     ]
    }
   ],
   "source": [
    "import time\n",
    "\n",
    "fd=open(\"inventory.txt\",\"r\")\n",
    "products=fd.read().split('\\n')\n",
    "fd.close()\n",
    "ui_username=input(\"Enter Name: \")\n",
    "ui_Phone=input(\"Enter Phone No.: \")\n",
    "ui_Mail=input(\"Enter mail id: \")\n",
    "ui_prod_id=input(\"Enter product Id: \")\n",
    "ui_prod_qn=input(\"Enter product Quantity: \")\n",
    "\n",
    "updated_product_list=[]\n",
    "for i in products:\n",
    "    prod_details=i.split(',')\n",
    "    if(prod_details[0]==ui_prod_id):\n",
    "        if(int(ui_prod_qn)<=int(prod_details[3])):\n",
    "            print(\"-------------------------\")\n",
    "            print(\"Product Name     :\",prod_details[1])\n",
    "            print(\"Price of Product :\" ,prod_details[2])\n",
    "            print(\"Quuantity        :\",ui_prod_qn)\n",
    "            print(\"-------------------------\")\n",
    "            print(\"Billing Amount    :\",int(ui_prod_qn)*int(prod_details[2]))\n",
    "            print(\"-------------------------\")\n",
    "            prod_details[3]=str(int(prod_details[3])-int(ui_prod_qn))\n",
    "            fd=open(\"sales.txt\",\"a\")\n",
    "            sales_detail=ui_username+\",\"+ui_Phone+\",\"+ui_Mail+\",\"+ prod_details[1]+\", \"+str(int(ui_prod_qn)*int(prod_details[2]))+\",\"+(time.ctime())+\"\\n\"\n",
    "            fd.write(sales_detail)\n",
    "            fd.close()\n",
    "        else:\n",
    "            print(\"We have Only \"+prod_details[3]+\" Availaible\")\n",
    "            print(\"Would you like to purchase it?\")\n",
    "            ch=input(\"Press Y/N\")\n",
    "            \n",
    "            if(ch=='Y' or ch=='y'):\n",
    "                print(\"-------------------------\")\n",
    "                print(\"Product Name     :\",prod_details[1])\n",
    "                print(\"Price of Product :\" ,prod_details[2])\n",
    "                print(\"Quuantity        :\",prod_details[3])\n",
    "                print(\"-------------------------\")\n",
    "                print(\"Billing Amount    :\",int(prod_details[3])*int(prod_details[2]))\n",
    "                print(\"-------------------------\")\n",
    "                prod_details[3]='0'\n",
    "            else:\n",
    "                print('Thanks!')\n",
    "                    \n",
    "            \n",
    "        \n",
    "    updated_product_list.append(prod_details)\n",
    "lst = []\n",
    "\n",
    "for i in updated_product_list:\n",
    "    prod = i[0] +\",\"+  i[1] +\",\"+ i[2] +\",\"+ i[3] + '\\n'\n",
    "    lst.append(prod)\n",
    "\n",
    "lst[-1] = lst[-1][:-1]\n",
    "    \n",
    "fd = open('inventory.txt','w')\n",
    "\n",
    "for i in lst:\n",
    "    fd.write(i)\n",
    "\n",
    "fd.close()\n",
    "    "
   ]
  },
  {
   "cell_type": "markdown",
   "id": "29e4212c",
   "metadata": {},
   "source": [
    "## Update amount"
   ]
  },
  {
   "cell_type": "code",
   "execution_count": 56,
   "id": "2454f979",
   "metadata": {},
   "outputs": [
    {
     "name": "stdout",
     "output_type": "stream",
     "text": [
      "['1,5 Star,5,100', '2,Dairy Milk,10,100', '3,Cake,300,5', '4,Milkbar,20,50']\n"
     ]
    }
   ],
   "source": [
    "print(products)"
   ]
  },
  {
   "cell_type": "code",
   "execution_count": 61,
   "id": "f7cbfc85",
   "metadata": {},
   "outputs": [],
   "source": [
    "fd=open(\"inventory.txt\",\"w\")\n",
    "for i in updated_product_list:\n",
    "    prod=i[0]+\",\"+i[1]+\",\"+i[2]+\",\"+i[3]+\"\\n\"\n",
    "    fd.write(prod)\n",
    "fd.close()"
   ]
  },
  {
   "cell_type": "code",
   "execution_count": 34,
   "id": "bc74cbf4",
   "metadata": {},
   "outputs": [
    {
     "name": "stdout",
     "output_type": "stream",
     "text": [
      "Inventory\n",
      "1,5 star\n",
      "Main.py\n"
     ]
    }
   ],
   "source": [
    "fd=open(\"file.txt\",\"r\")\n",
    "print(fd.read())\n"
   ]
  },
  {
   "cell_type": "code",
   "execution_count": 38,
   "id": "89a8f3fc",
   "metadata": {},
   "outputs": [
    {
     "name": "stdout",
     "output_type": "stream",
     "text": [
      "['1', '5 star']\n"
     ]
    }
   ],
   "source": [
    "fd=open(\"file.txt\",\"r\")\n",
    "products=fd.read().split(\"\\n\")\n",
    "for product in products:\n",
    "    product=product.split(\",\")\n",
    "    if(product[0]==\"1\"):\n",
    "        print(product)"
   ]
  },
  {
   "cell_type": "code",
   "execution_count": null,
   "id": "6bfa355d",
   "metadata": {},
   "outputs": [],
   "source": []
  }
 ],
 "metadata": {
  "kernelspec": {
   "display_name": "Python 3 (ipykernel)",
   "language": "python",
   "name": "python3"
  },
  "language_info": {
   "codemirror_mode": {
    "name": "ipython",
    "version": 3
   },
   "file_extension": ".py",
   "mimetype": "text/x-python",
   "name": "python",
   "nbconvert_exporter": "python",
   "pygments_lexer": "ipython3",
   "version": "3.9.13"
  }
 },
 "nbformat": 4,
 "nbformat_minor": 5
}
